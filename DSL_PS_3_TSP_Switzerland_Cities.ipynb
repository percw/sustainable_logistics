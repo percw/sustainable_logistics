{
 "cells": [
  {
   "cell_type": "code",
   "execution_count": 2,
   "metadata": {},
   "outputs": [],
   "source": [
    "\n",
    "from ortools.constraint_solver import routing_enums_pb2\n",
    "from ortools.constraint_solver import pywrapcp\n"
   ]
  },
  {
   "cell_type": "code",
   "execution_count": 6,
   "metadata": {},
   "outputs": [
    {
     "name": "stdout",
     "output_type": "stream",
     "text": [
      "Objective: 1020 miles\n",
      "Route for vehicle 0:\n",
      " 0 -> 1 -> 3 -> 6 -> 2 -> 7 -> 8 -> 4 -> 5 -> 0\n",
      "\n"
     ]
    }
   ],
   "source": [
    "\"\"\"Simple travelling salesman problem between cities.\"\"\"\n",
    "\n",
    "\n",
    "def create_data_model():\n",
    "    \"\"\"Stores the data for the problem.\"\"\"\n",
    "    # cities: 0: Lausanne, 1: Geneva, 2: Zurich, 3: Bern, 4: Lugano, 5: Luzern, 6: Basel, 7: St. Gallen, 8: Chur\n",
    "    data = {}\n",
    "    data['distance_matrix'] = [\n",
    "        [0, 64, 229, 109, 378, 110, 201, 304, 346],\n",
    "        [64, 0, 280, 161, 370, 266, 253, 360, 398],\n",
    "        [229, 280, 0, 124, 205, 53, 86, 86, 120],\n",
    "        [109, 161, 124, 0, 277, 110, 96, 204, 241],\n",
    "        [378, 370, 205, 277, 0, 167, 262, 248, 146],\n",
    "        [110, 266, 53, 110, 167, 0, 97, 144, 142],\n",
    "        [201, 253, 86, 96, 262, 97, 0, 170, 204],\n",
    "        [304, 360, 86, 204, 248, 144, 170, 0, 104],\n",
    "        [346, 398, 120, 241, 146, 142, 204, 104, 0],\n",
    "    ]\n",
    "\n",
    "    data['num_vehicles'] = 1\n",
    "\n",
    "    # The index of the depot, the location where all vehicles start and end their routes.\n",
    "    data['depot'] = 0\n",
    "    return data\n",
    "\n",
    "\n",
    "def print_solution(manager, routing, solution):\n",
    "    \"\"\"Prints solution on console.\"\"\"\n",
    "    print('Objective: {} miles'.format(solution.ObjectiveValue()))\n",
    "    index = routing.Start(0)\n",
    "    plan_output = 'Route for vehicle 0:\\n'\n",
    "    route_distance = 0\n",
    "    while not routing.IsEnd(index):\n",
    "        plan_output += ' {} ->'.format(manager.IndexToNode(index))\n",
    "        previous_index = index\n",
    "        index = solution.Value(routing.NextVar(index))\n",
    "        route_distance += routing.GetArcCostForVehicle(\n",
    "            previous_index, index, 0)\n",
    "    plan_output += ' {}\\n'.format(manager.IndexToNode(index))\n",
    "    print(plan_output)\n",
    "    plan_output += 'Route distance: {}miles\\n'.format(route_distance)\n",
    "\n",
    "\"\"\"Entry point of the program.\"\"\"\n",
    "# Instantiate the data problem.\n",
    "data = create_data_model()\n",
    "\n",
    "# Create the routing index manager.\n",
    "# The three inputs to RoutingIndexManager are:\n",
    "# 1. Number of locations incl depot\n",
    "# 2. Number of vehicles\n",
    "# 3. Depot node\n",
    "manager = pywrapcp.RoutingIndexManager(len(data['distance_matrix']),\n",
    "                                        data['num_vehicles'], data['depot'])\n",
    "\n",
    "# Create Routing Model.\n",
    "# Feeding the routing model with the index_manager (=manager)\n",
    "routing = pywrapcp.RoutingModel(manager)\n",
    "\n",
    "def distance_callback(from_index, to_index):\n",
    "    \"\"\"Returns the distance between the two nodes.\"\"\"\n",
    "    # Convert from routing variable Index to distance matrix NodeIndex.\n",
    "    from_node = manager.IndexToNode(from_index)\n",
    "    to_node = manager.IndexToNode(to_index)\n",
    "    return data['distance_matrix'][from_node][to_node]\n",
    "\n",
    "transit_callback_index = routing.RegisterTransitCallback(distance_callback)\n",
    "\n",
    "# Define cost of each arc.\n",
    "# Using built-in function\n",
    "routing.SetArcCostEvaluatorOfAllVehicles(transit_callback_index)\n",
    "\n",
    "# Setting first solution heuristic.\n",
    "search_parameters = pywrapcp.DefaultRoutingSearchParameters()\n",
    "search_parameters.first_solution_strategy = (\n",
    "    routing_enums_pb2.FirstSolutionStrategy.PATH_CHEAPEST_ARC)\n",
    "\n",
    "# Solve the problem.\n",
    "solution = routing.SolveWithParameters(search_parameters)\n",
    "\n",
    "# Print solution on console.\n",
    "if solution:\n",
    "    print_solution(manager, routing, solution)\n",
    "\n"
   ]
  }
 ],
 "metadata": {
  "kernelspec": {
   "display_name": "base",
   "language": "python",
   "name": "python3"
  },
  "language_info": {
   "codemirror_mode": {
    "name": "ipython",
    "version": 3
   },
   "file_extension": ".py",
   "mimetype": "text/x-python",
   "name": "python",
   "nbconvert_exporter": "python",
   "pygments_lexer": "ipython3",
   "version": "3.9.13"
  },
  "orig_nbformat": 4
 },
 "nbformat": 4,
 "nbformat_minor": 2
}
