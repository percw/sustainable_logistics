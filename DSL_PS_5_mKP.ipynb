{
 "cells": [
  {
   "cell_type": "code",
   "execution_count": 1,
   "metadata": {},
   "outputs": [],
   "source": [
    "from ortools.algorithms import pywrapknapsack_solver\n"
   ]
  },
  {
   "cell_type": "code",
   "execution_count": 3,
   "metadata": {},
   "outputs": [
    {
     "name": "stdout",
     "output_type": "stream",
     "text": [
      "Total value = 6962\n",
      "Total weight: 765\n",
      "Total volume: 699\n",
      "Packed items: [0, 1, 3, 4, 6, 9, 10, 11, 12, 15, 16, 17, 20, 21, 22, 29, 30, 34, 37, 42, 47, 48, 49]\n",
      "Packed_weights: [7, 0, 22, 80, 11, 64, 59, 18, 0, 8, 15, 42, 42, 47, 52, 84, 2, 7, 44, 31, 65, 52, 13]\n",
      "Packed_volume: [17, 10, 15, 19, 24, 10, 90, 80, 10, 18, 20, 49, 22, 28, 20, 84, 12, 17, 24, 11, 45, 51, 23]\n"
     ]
    }
   ],
   "source": [
    "\n",
    "\n",
    "values = [\n",
    "    360, 83, 59, 130, 431, 67, 230, 52, 93, 125, 670, 892, 600, 38, 48, 147,\n",
    "    78, 256, 63, 17, 120, 164, 432, 35, 92, 110, 22, 42, 50, 323, 514, 28,\n",
    "    87, 73, 78, 15, 26, 78, 210, 36, 85, 189, 274, 43, 33, 10, 19, 389, 276,\n",
    "    312\n",
    "]\n",
    "\n",
    "# first dimension = weights\n",
    "\n",
    "# second dimension = volume\n",
    "dimensions = [\n",
    "    [7, 0, 30, 22, 80, 94, 11, 81, 70, 64, 59, 18, 0, 36, 3, 8, 15, 42, 9, 0,\n",
    "     42, 47, 52, 32, 26, 48, 55, 6, 29, 84, 2, 4, 18, 56, 7, 29, 93, 44, 71,\n",
    "     3, 86, 66, 31, 65, 0, 79, 20, 65, 52, 13],\n",
    "    [17, 10, 34, 15, 19, 60, 24, 33, 44, 10, 90, 80, 10, 16, 30, 18, 20, 49, 19, 10,\n",
    "     22, 28, 20, 38, 29, 42, 55, 16, 29, 84, 12, 14, 29, 46, 17, 19, 63, 24, 81,\n",
    "     13, 46, 46, 11, 35, 10, 39, 10, 45, 51, 23]\n",
    "]\n",
    "\n",
    "# total weight cap = 850, total volume cap = 700\n",
    "capacities = [850, 700]\n",
    "\n",
    "# Create the solver (Using a multidimensional solver)\n",
    "solver = pywrapknapsack_solver.KnapsackSolver(\n",
    "    pywrapknapsack_solver.KnapsackSolver.\n",
    "    KNAPSACK_MULTIDIMENSION_BRANCH_AND_BOUND_SOLVER,\n",
    "    'Multi-dimensional solver')\n",
    "\n",
    "solver.Init(values, dimensions, capacities)\n",
    "computed_value = solver.Solve()\n",
    "\n",
    "packed_items = []\n",
    "packed_weights = []\n",
    "packed_volumes = []\n",
    "total_weight = 0\n",
    "total_volume = 0\n",
    "print('Total value =', computed_value)\n",
    "for i in range(len(values)):\n",
    "    if solver.BestSolutionContains(i):\n",
    "        packed_items.append(i)\n",
    "        packed_weights.append(dimensions[0][i])\n",
    "        packed_volumes.append(dimensions[1][i])\n",
    "        total_weight += dimensions[0][i]\n",
    "        total_volume += dimensions[1][i]\n",
    "print('Total weight:', total_weight)\n",
    "print('Total volume:', total_volume)\n",
    "print('Packed items:', packed_items)\n",
    "print('Packed_weights:', packed_weights)\n",
    "print('Packed_volume:', packed_volumes)\n"
   ]
  }
 ],
 "metadata": {
  "kernelspec": {
   "display_name": "base",
   "language": "python",
   "name": "python3"
  },
  "language_info": {
   "codemirror_mode": {
    "name": "ipython",
    "version": 3
   },
   "file_extension": ".py",
   "mimetype": "text/x-python",
   "name": "python",
   "nbconvert_exporter": "python",
   "pygments_lexer": "ipython3",
   "version": "3.9.13"
  },
  "orig_nbformat": 4
 },
 "nbformat": 4,
 "nbformat_minor": 2
}
