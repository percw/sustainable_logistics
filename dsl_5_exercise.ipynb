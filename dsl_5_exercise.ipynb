{
 "cells": [
  {
   "cell_type": "code",
   "execution_count": null,
   "metadata": {},
   "outputs": [],
   "source": [
    "from ortools.algorithms import pywrapknapsack_solver\n",
    "\n",
    "values = [\n",
    "    360, 83, 59, 130, 431, 67, 230, 52, 93, 125, 670, 892, 600, 38, 48, 147,\n",
    "    78, 256, 63, 17, 120, 164, 432, 35, 92, 110, 22, 42, 50, 323, 514, 28,\n",
    "    87, 73, 78, 15, 26, 78, 210, 36, 85, 189, 274, 43, 33, 10, 19, 389, 276,\n",
    "    312\n",
    "]\n",
    "\n",
    "# Adding a second list with the new constraint: volume\n",
    "dimensions = [[7, 0, 30, 22, 80, 94, 11, 81, 70, 64, 59, 18, 0, 36, 3, 8, 15, 42, 9, 0,\n",
    "               42, 47, 52, 32, 26, 48, 55, 6, 29, 84, 2, 4, 18, 56, 7, 29, 93, 44, 71,\n",
    "               3, 86, 66, 31, 65, 0, 79, 20, 65, 52, 13],\n",
    "              [17, 10, 34, 15, 19, 60, 24, 33, 44, 10, 90, 80, 10, 16, 30, 18, 20, 49, 19, 10, 22, 28, 20, 38,\n",
    "               29, 42, 55, 16, 29, 84, 12, 14, 29, 46, 17, 19, 63, 24, 81, 13, 46, 46, 11, 35, 10, 39, 10, 45, 51, 23]]\n",
    "\n",
    "# adding the new volume capacity: 700\n",
    "capacities = [850, 700]\n",
    "\n",
    "\n",
    "# Create the solver.\n",
    "solver = pywrapknapsack_solver.KnapsackSolver(\n",
    "    pywrapknapsack_solver.KnapsackSolver.\n",
    "    KNAPSACK_MULTIDIMENSION_BRANCH_AND_BOUND_SOLVER, 'KnapsackExample')\n",
    "\n",
    "solver.Init(values, dimensions, capacities)\n",
    "computed_value = solver.Solve()\n",
    "\n",
    "packed_items = []\n",
    "packed_weights = []\n",
    "packed_volumes = []\n",
    "total_weight = 0\n",
    "total_volume = 0\n",
    "print('Total value =', computed_value)\n",
    "for i in range(len(values)):\n",
    "    if solver.BestSolutionContains(i):\n",
    "        packed_items.append(i)\n",
    "        packed_weights.append(dimensions[0][i])\n",
    "        packed_volumes.append(dimensions[1][i])\n",
    "        total_weight += dimensions[0][i]\n",
    "        total_volume += dimensions[1][i]\n",
    "print('Total weight:', total_weight)\n",
    "print('Total volume:', total_volume)\n",
    "print('Packed items:', packed_items)\n",
    "print('Packed_weights:', packed_weights)\n",
    "print('Packed_volume:', packed_volumes)\n"
   ]
  }
 ],
 "metadata": {
  "kernelspec": {
   "display_name": "base",
   "language": "python",
   "name": "python3"
  },
  "language_info": {
   "codemirror_mode": {
    "name": "ipython",
    "version": 3
   },
   "file_extension": ".py",
   "mimetype": "text/x-python",
   "name": "python",
   "nbconvert_exporter": "python",
   "pygments_lexer": "ipython3",
   "version": "3.9.13"
  },
  "orig_nbformat": 4
 },
 "nbformat": 4,
 "nbformat_minor": 2
}
