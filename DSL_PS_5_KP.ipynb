{
 "cells": [
  {
   "cell_type": "code",
   "execution_count": 1,
   "metadata": {},
   "outputs": [],
   "source": [
    "from ortools.algorithms import pywrapknapsack_solver"
   ]
  },
  {
   "attachments": {},
   "cell_type": "markdown",
   "metadata": {},
   "source": [
    "## Program Description\n",
    "\n",
    "This program solves the 0-1 Knapsack problem using the `pywrapknapsack_solver` module. The problem involves selecting items from a set with given weights and values, subject to a constraint on the total weight. \n",
    "\n",
    "The program defines a list of values and a list of weights for each item, as well as the capacity of the knapsack. It then creates an instance of the `KnapsackSolver` class, which is used to solve the problem. The solver is initialized with the values, weights, and capacity of the knapsack.\n",
    "\n",
    "The `Solve()` method of the solver object is called to compute the optimal value of the knapsack. The program then determines which items were selected by iterating over the items and checking whether they are included in the best solution. The selected items and their corresponding weights are stored in the `packed_items` and `packed_weights` lists, respectively. The total weight of the selected items is also computed and printed.\n",
    "\n",
    "## Difference between Function Calls and Library Functions\n",
    "\n",
    "A function call is a statement that invokes a function with given arguments. It is a fundamental programming concept that allows for modularity and code reuse. A library function is a function that is part of a library or module and can be called by other programs. Library functions are useful because they provide a set of pre-defined functionality that can be used by other programs without having to re-implement it.\n",
    "\n",
    "In the context of this program, the `Solve()` method is a function call that invokes a method of the `KnapsackSolver` class to solve the knapsack problem. The `pywrapknapsack_solver` module provides this method as part of its library functions."
   ]
  },
  {
   "cell_type": "code",
   "execution_count": 2,
   "metadata": {},
   "outputs": [
    {
     "name": "stdout",
     "output_type": "stream",
     "text": [
      "Total value = 7534\n",
      "Total weight: 850\n",
      "Packed items: [0, 1, 3, 4, 6, 10, 11, 12, 14, 15, 16, 17, 18, 19, 21, 22, 24, 27, 28, 29, 30, 31, 32, 34, 38, 39, 41, 42, 44, 47, 48, 49]\n",
      "Packed_weights: [7, 0, 22, 80, 11, 59, 18, 0, 3, 8, 15, 42, 9, 0, 47, 52, 26, 6, 29, 84, 2, 4, 18, 7, 71, 3, 66, 31, 0, 65, 52, 13]\n"
     ]
    }
   ],
   "source": [
    "\n",
    "values = [\n",
    "    360, 83, 59, 130, 431, 67, 230, 52, 93, 125, 670, 892, 600, 38, 48, 147,\n",
    "    78, 256, 63, 17, 120, 164, 432, 35, 92, 110, 22, 42, 50, 323, 514, 28,\n",
    "    87, 73, 78, 15, 26, 78, 210, 36, 85, 189, 274, 43, 33, 10, 19, 389, 276,\n",
    "    312\n",
    "]\n",
    "weights = [[\n",
    "    7, 0, 30, 22, 80, 94, 11, 81, 70, 64, 59, 18, 0, 36, 3, 8, 15, 42, 9, 0,\n",
    "    42, 47, 52, 32, 26, 48, 55, 6, 29, 84, 2, 4, 18, 56, 7, 29, 93, 44, 71,\n",
    "    3, 86, 66, 31, 65, 0, 79, 20, 65, 52, 13\n",
    "]]\n",
    "capacities = [850]\n",
    "\n",
    "# Create the solver.\n",
    "solver = pywrapknapsack_solver.KnapsackSolver(\n",
    "    pywrapknapsack_solver.KnapsackSolver.\n",
    "    KNAPSACK_DYNAMIC_PROGRAMMING_SOLVER, 'KnapsackExample')\n",
    "\n",
    "solver.Init(values, weights, capacities)\n",
    "computed_value = solver.Solve()\n",
    "\n",
    "packed_items = []\n",
    "packed_weights = []\n",
    "total_weight = 0\n",
    "print('Total value =', computed_value)\n",
    "for i in range(len(values)):\n",
    "    if solver.BestSolutionContains(i):\n",
    "        packed_items.append(i)\n",
    "        packed_weights.append(weights[0][i])\n",
    "        total_weight += weights[0][i]\n",
    "print('Total weight:', total_weight)\n",
    "print('Packed items:', packed_items)\n",
    "print('Packed_weights:', packed_weights)\n"
   ]
  },
  {
   "cell_type": "code",
   "execution_count": null,
   "metadata": {},
   "outputs": [],
   "source": []
  }
 ],
 "metadata": {
  "kernelspec": {
   "display_name": "base",
   "language": "python",
   "name": "python3"
  },
  "language_info": {
   "codemirror_mode": {
    "name": "ipython",
    "version": 3
   },
   "file_extension": ".py",
   "mimetype": "text/x-python",
   "name": "python",
   "nbconvert_exporter": "python",
   "pygments_lexer": "ipython3",
   "version": "3.9.13"
  },
  "orig_nbformat": 4
 },
 "nbformat": 4,
 "nbformat_minor": 2
}
